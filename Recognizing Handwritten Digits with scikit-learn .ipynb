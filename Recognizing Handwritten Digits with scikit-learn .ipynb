{
 "cells": [
  {
   "cell_type": "code",
   "execution_count": 1,
   "id": "b151f49a",
   "metadata": {},
   "outputs": [],
   "source": [
    "from sklearn import datasets\n",
    "import matplotlib.pyplot as plt\n",
    "digits = datasets.load_digits()"
   ]
  },
  {
   "cell_type": "code",
   "execution_count": 2,
   "id": "177be899",
   "metadata": {},
   "outputs": [],
   "source": [
    "main_data = digits['data']\n",
    "targets = digits['target']"
   ]
  },
  {
   "cell_type": "code",
   "execution_count": 3,
   "id": "f545a6b7",
   "metadata": {},
   "outputs": [
    {
     "data": {
      "image/png": "[encoded data removed]",
      "text/plain": [
       "<Figure size 640x480 with 1 Axes>"
      ]
     },
     "metadata": {},
     "output_type": "display_data"
    }
   ],
   "source": [
    "def view_digit(index):\n",
    "    plt.imshow(digits.images[index] , cmap = plt.cm.gray_r , interpolation = 'nearest')\n",
    "    plt.title('Orignal it is: '+ str(digits.target[index]))\n",
    "    plt.show()\n",
    "view_digit(17)"
   ]
  },
  {
   "cell_type": "markdown",
   "id": "690ab557",
   "metadata": {},
   "source": [
    "## (i) Support Vector Classifier :"
   ]
  },
  {
   "cell_type": "code",
   "execution_count": 7,
   "id": "18c87277",
   "metadata": {},
   "outputs": [
    {
     "name": "stdout",
     "output_type": "stream",
     "text": [
      "Accuracy: 1.0\n"
     ]
    }
   ],
   "source": [
    "# import the necessary modules\n",
    "from sklearn import svm\n",
    "from sklearn.metrics import accuracy_score\n",
    "\n",
    "# Instantiate the SVC model with specified hyperparameters\n",
    "svc = svm.SVC(gamma=0.001, C=100.0)\n",
    "\n",
    "# Train the model using the training data\n",
    "svc.fit(main_data[:1790], targets[:1790])\n",
    "\n",
    "# Predict on the test data\n",
    "predictions = svc.predict(main_data[1791:])\n",
    "\n",
    "# Check the accuracy of the predictions\n",
    "accuracy = accuracy_score(predictions, targets[1791:])\n",
    "print(\"Accuracy:\", accuracy)\n"
   ]
  },
  {
   "cell_type": "markdown",
   "id": "850a11a7",
   "metadata": {},
   "source": [
    "## (ii) Decision Tree Classifier :"
   ]
  },
  {
   "cell_type": "code",
   "execution_count": 5,
   "id": "f241c972",
   "metadata": {},
   "outputs": [
    {
     "data": {
      "text/plain": [
       "0.7806122448979592"
      ]
     },
     "execution_count": 5,
     "metadata": {},
     "output_type": "execute_result"
    }
   ],
   "source": [
    "# import the Classifier\n",
    "from sklearn.tree import DecisionTreeClassifier\n",
    "# Instanciate Model\n",
    "# we can also use criterion = 'entropy' both lead us to nearly same \n",
    "# result\n",
    "dt = DecisionTreeClassifier(criterion = 'gini') \n",
    "# fit the data on model\n",
    "# Training Set = 1600 , Validation Set = 197\n",
    "dt.fit(main_data[:1600] , targets[:1600])\n",
    "# prediction on test data\n",
    "predictions2 = dt.predict(main_data[1601:])\n",
    "# We use classification materics as accuracy_score\n",
    "# import accuracy_score\n",
    "from sklearn.metrics import accuracy_score\n",
    "accuracy_score(targets[1601:] , predictions2)"
   ]
  },
  {
   "cell_type": "markdown",
   "id": "64222d78",
   "metadata": {},
   "source": [
    "## (iii) Random Forest Classifier:"
   ]
  },
  {
   "cell_type": "code",
   "execution_count": 6,
   "id": "792a92aa",
   "metadata": {},
   "outputs": [
    {
     "data": {
      "text/plain": [
       "0.9324324324324325"
      ]
     },
     "execution_count": 6,
     "metadata": {},
     "output_type": "execute_result"
    }
   ],
   "source": [
    "from sklearn.ensemble import RandomForestClassifier\n",
    "# n_estimators hyperparameters( default 100 )\n",
    "rc = RandomForestClassifier(n_estimators = 150)\n",
    "# Training Data = 1500 , Validation data = 297\n",
    "rc.fit(main_data[:1500] , targets[:1500])\n",
    "predictions3 = rc.predict(main_data[1501:])\n",
    "accuracy_score(targets[1501:] , predictions3)"
   ]
  }
 ],
 "metadata": {
  "kernelspec": {
   "display_name": "Python 3 (ipykernel)",
   "language": "python",
   "name": "python3"
  },
  "language_info": {
   "codemirror_mode": {
    "name": "ipython",
    "version": 3
   },
   "file_extension": ".py",
   "mimetype": "text/x-python",
   "name": "python",
   "nbconvert_exporter": "python",
   "pygments_lexer": "ipython3",
   "version": "3.11.5"
  }
 },
 "nbformat": 4,
 "nbformat_minor": 5
}
